{
  "nbformat": 4,
  "nbformat_minor": 0,
  "metadata": {
    "colab": {
      "name": "Data augmentation with the Fourier transform.ipynb",
      "provenance": []
    },
    "kernelspec": {
      "name": "python3",
      "display_name": "Python 3"
    },
    "language_info": {
      "name": "python"
    }
  },
  "cells": [
    {
      "cell_type": "code",
      "metadata": {
        "colab": {
          "base_uri": "https://localhost:8080/"
        },
        "id": "vahlxGjb0QCw",
        "outputId": "e9bb8219-475a-44cb-c9df-04685845a9f1"
      },
      "source": [
        "from google.colab import drive\n",
        "drive.mount('/content/drive')"
      ],
      "execution_count": null,
      "outputs": [
        {
          "output_type": "stream",
          "text": [
            "Mounted at /content/drive\n"
          ],
          "name": "stdout"
        }
      ]
    },
    {
      "cell_type": "code",
      "metadata": {
        "id": "fKZOtGiKjnkH"
      },
      "source": [
        "import numpy as np\n",
        "import cv2\n",
        "import glob\n",
        "import matplotlib.pyplot as plt                     \n",
        "from numpy.fft import fft2, fftshift, ifft2"
      ],
      "execution_count": null,
      "outputs": []
    },
    {
      "cell_type": "code",
      "metadata": {
        "id": "j2AIP_M1rPDB"
      },
      "source": [
        "def num(str_name):\n",
        "  return str_name[65:-5]\n",
        "v_num=np.vectorize(num)"
      ],
      "execution_count": null,
      "outputs": []
    },
    {
      "cell_type": "code",
      "metadata": {
        "id": "Jo4aH9yAq16E"
      },
      "source": [
        "x_ind=v_num(glob.glob('/content/drive/MyDrive/INDIGO_MLR/DataAugmentation/preview/cat_0_*.jpeg'))"
      ],
      "execution_count": null,
      "outputs": []
    },
    {
      "cell_type": "code",
      "metadata": {
        "id": "x-VCPgzimyPj"
      },
      "source": [
        "path_base='/content/drive/MyDrive/INDIGO_MLR/DataAugmentation/preview/cat_0_{}.jpeg'"
      ],
      "execution_count": null,
      "outputs": []
    },
    {
      "cell_type": "code",
      "metadata": {
        "id": "mK-ekhYFlS4k"
      },
      "source": [
        "def get_data(nodule_id):    \n",
        "    ima = cv2.imread(path_base.format(nodule_id)).astype('float32')\n",
        "    ima=(ima-np.min(ima))/(np.max(ima)-np.min(ima))\n",
        "    return ima, 1"
      ],
      "execution_count": null,
      "outputs": []
    },
    {
      "cell_type": "code",
      "metadata": {
        "id": "AwERD3W5y5fo"
      },
      "source": [
        "def fourier_fase(image_F):\n",
        "  Mod=np.abs(image_F)\n",
        "  Mod=Mod*np.random.rand(np.shape(Mod)[0], np.shape(Mod)[1])\n",
        "  fas=np.arctan(image_F.imag/image_F.real)\n",
        "  pi_n=-np.logical_and(image_F.imag<0,image_F.real<0).astype('int')*np.pi\n",
        "  pi_p=np.logical_and(image_F.imag>0,image_F.real<0).astype('int')*np.pi\n",
        "  fas=fas+pi_n+pi_p\n",
        "  image_F=(Mod*np.cos(fas)+Mod*np.sin(fas)*1j)\n",
        "  return ifft2(image_F)"
      ],
      "execution_count": null,
      "outputs": []
    },
    {
      "cell_type": "code",
      "metadata": {
        "id": "o1BMvTJ8uG8g"
      },
      "source": [
        "def dataugmentation(ima):\n",
        "  out=np.zeros(np.shape(ima))\n",
        "  if np.shape(ima)[-1]==3:\n",
        "    for i in range(3):\n",
        "      F=fft2(ima[...,i])\n",
        "      inv=fourier_fase(F)\n",
        "      out[...,i]=np.abs(inv)\n",
        "  else:\n",
        "    F=fft2(ima)\n",
        "    inv=fourier_fase(F)\n",
        "    out=np.abs(inv)\n",
        "  out=(out-np.min(out))/(np.max(out)-np.min(out)).astype('float32')\n",
        "  return out"
      ],
      "execution_count": null,
      "outputs": []
    },
    {
      "cell_type": "code",
      "metadata": {
        "id": "dHP9enlx9EYz"
      },
      "source": [
        "def one_hot(vec):\n",
        "  vec = vec-1\n",
        "  shape = (vec.size, int(vec.max()+1))\n",
        "  one = np.zeros(shape)\n",
        "  rows = np.arange(vec.size)\n",
        "  one[rows, vec.astype('int')] = 1\n",
        "  return one"
      ],
      "execution_count": null,
      "outputs": []
    },
    {
      "cell_type": "code",
      "metadata": {
        "id": "3bW18ShQisH1"
      },
      "source": [
        "from keras.utils import Sequence\n",
        "class Sequence_data(Sequence):\n",
        "    def __init__(self, data, batch_size, is_training):\n",
        "        self.data = data\n",
        "        self.batch_size = batch_size\n",
        "        self.is_training = is_training\n",
        "\n",
        "    def __len__(self):\n",
        "        return int(np.ceil(len(self.data) / float(self.batch_size)))\n",
        "\n",
        "    def __getitem__(self, idx):\n",
        "        batch_x = self.data[idx * self.batch_size:(idx + 1) * self.batch_size]\n",
        "        \n",
        "        X = []\n",
        "        Y = []\n",
        "\n",
        "        for path in batch_x:\n",
        "          data_x, data_y = get_data(path)\n",
        "          X.append(data_x)\n",
        "          Y.append(data_y)\n",
        "          if self.is_training:\n",
        "            data_x=dataugmentation(data_x)\n",
        "            X.append(data_x)\n",
        "            Y.append(data_y)           \n",
        "        X = np.array(X)\n",
        "        Y = np.array(Y)\n",
        "\n",
        "        return X, one_hot(Y)"
      ],
      "execution_count": null,
      "outputs": []
    },
    {
      "cell_type": "code",
      "metadata": {
        "id": "7yi-y_9sjI6H"
      },
      "source": [
        "seq_train = Sequence_data(x_ind, 30, True)"
      ],
      "execution_count": null,
      "outputs": []
    }
  ]
}